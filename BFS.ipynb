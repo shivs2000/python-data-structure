{
 "cells": [
  {
   "cell_type": "markdown",
   "metadata": {},
   "source": [
    "Breadth first search"
   ]
  },
  {
   "cell_type": "code",
   "execution_count": 10,
   "metadata": {},
   "outputs": [
    {
     "name": "stdout",
     "output_type": "stream",
     "text": [
      "2=>0=>3=>1=>"
     ]
    }
   ],
   "source": [
    "from collections import defaultdict\n",
    "class Graph:\n",
    "    def __init__(self):\n",
    "        self.graph=defaultdict(list)\n",
    "    def addEdge(self,u,v):    \n",
    "        self.graph[u].append(v)\n",
    "    def BFS(self,v):\n",
    "        visited=[False]*(max(self.graph)+1)\n",
    "        queue=[]\n",
    "        queue.append(v)\n",
    "        visited[v]=True\n",
    "        \n",
    "        while queue:\n",
    "            s=queue.pop(0)\n",
    "            print(s,end=\"=>\")\n",
    "            for i in self.graph[s]:\n",
    "                if visited[i]==False:\n",
    "                    queue.append(i)\n",
    "                    visited[i]=True\n",
    "g=Graph()\n",
    "g.addEdge(0,1)\n",
    "g.addEdge(0,2)\n",
    "g.addEdge(1,2)\n",
    "g.addEdge(2,0)\n",
    "g.addEdge(2,3)\n",
    "g.addEdge(3,3)\n",
    "g.BFS(2)\n",
    "            "
   ]
  },
  {
   "cell_type": "code",
   "execution_count": null,
   "metadata": {},
   "outputs": [],
   "source": []
  }
 ],
 "metadata": {
  "kernelspec": {
   "display_name": "Python 3",
   "language": "python",
   "name": "python3"
  },
  "language_info": {
   "codemirror_mode": {
    "name": "ipython",
    "version": 3
   },
   "file_extension": ".py",
   "mimetype": "text/x-python",
   "name": "python",
   "nbconvert_exporter": "python",
   "pygments_lexer": "ipython3",
   "version": "3.7.4"
  }
 },
 "nbformat": 4,
 "nbformat_minor": 2
}
