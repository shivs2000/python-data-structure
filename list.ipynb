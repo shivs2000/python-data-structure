{
 "cells": [
  {
   "cell_type": "code",
   "execution_count": 7,
   "metadata": {
    "scrolled": true
   },
   "outputs": [
    {
     "name": "stdout",
     "output_type": "stream",
     "text": [
      "<class 'list'>\n",
      "['apple', 'berry', 'banana']\n",
      "<class 'list'>\n",
      "<class 'list'>\n",
      "<class 'list'>\n",
      "<class 'list'>\n"
     ]
    }
   ],
   "source": [
    "list1=list(('apple','berry','banana'))\n",
    "list2=list(('apple','cherry','grapes'))\n",
    "print(type(list2))\n",
    "print(list1)\n",
    "print(type(list1))\n",
    "list3=['hello','bye']\n",
    "print(type(list3))\n",
    "list4=['d','d','g','o',4,True]\n",
    "llist5=[\"d\",\"f\",False]\n",
    "print(type(llist5))\n",
    "print(type(list4))"
   ]
  },
  {
   "cell_type": "markdown",
   "metadata": {},
   "source": [
    "LIST COMPREHENSION"
   ]
  },
  {
   "cell_type": "code",
   "execution_count": 9,
   "metadata": {},
   "outputs": [
    {
     "name": "stdout",
     "output_type": "stream",
     "text": [
      "['APPLE', 'BANANA', 'ATOM', 'AMANDA', 'JACK', 'ROSE']\n",
      "['apple', 'banana', 'atom', 'amanda', 'jack']\n"
     ]
    }
   ],
   "source": [
    "List=list(('apple','banana','atom','amanda','jack','rose'))\n",
    "newList=[x for x in List if 'a' in x]\n",
    "newList2=[x.upper() for x in List]\n",
    "print(newList2)\n",
    "print(newList)"
   ]
  },
  {
   "cell_type": "markdown",
   "metadata": {},
   "source": []
  }
 ],
 "metadata": {
  "kernelspec": {
   "display_name": "Python 3",
   "language": "python",
   "name": "python3"
  },
  "language_info": {
   "codemirror_mode": {
    "name": "ipython",
    "version": 3
   },
   "file_extension": ".py",
   "mimetype": "text/x-python",
   "name": "python",
   "nbconvert_exporter": "python",
   "pygments_lexer": "ipython3",
   "version": "3.7.4"
  }
 },
 "nbformat": 4,
 "nbformat_minor": 2
}
