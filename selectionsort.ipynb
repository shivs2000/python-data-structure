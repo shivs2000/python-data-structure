{
 "cells": [
  {
   "cell_type": "markdown",
   "metadata": {},
   "source": [
    "SELECTION SORT"
   ]
  },
  {
   "cell_type": "code",
   "execution_count": 3,
   "metadata": {},
   "outputs": [
    {
     "name": "stdout",
     "output_type": "stream",
     "text": [
      "before\n",
      "[21, 13, 45, 67, 1, 98, 91]\n",
      "after\n",
      "[1, 13, 21, 45, 67, 91, 98]\n"
     ]
    }
   ],
   "source": [
    "A=[21,13,45,67,1,98,91]\n",
    "print(\"before\")\n",
    "print(A)\n",
    "for i in range(len(A)):\n",
    "    min=i\n",
    "    for j in range(i+1,len(A)):\n",
    "        if A[min]>A[j]:\n",
    "            min=j\n",
    "    A[i],A[min]=A[min],A[i]\n",
    "    \n",
    "\n",
    "print(\"after\")\n",
    "print(A)"
   ]
  },
  {
   "cell_type": "code",
   "execution_count": null,
   "metadata": {},
   "outputs": [],
   "source": []
  }
 ],
 "metadata": {
  "kernelspec": {
   "display_name": "Python 3",
   "language": "python",
   "name": "python3"
  },
  "language_info": {
   "codemirror_mode": {
    "name": "ipython",
    "version": 3
   },
   "file_extension": ".py",
   "mimetype": "text/x-python",
   "name": "python",
   "nbconvert_exporter": "python",
   "pygments_lexer": "ipython3",
   "version": "3.7.4"
  }
 },
 "nbformat": 4,
 "nbformat_minor": 2
}
