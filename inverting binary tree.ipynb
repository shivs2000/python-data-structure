{
 "cells": [
  {
   "cell_type": "markdown",
   "metadata": {},
   "source": [
    "INVERTING BINARY TREE"
   ]
  },
  {
   "cell_type": "code",
   "execution_count": 9,
   "metadata": {},
   "outputs": [
    {
     "name": "stdout",
     "output_type": "stream",
     "text": [
      "before reversing\n",
      "4 2 5 1 3 \n",
      "After reversing\n",
      "3 1 5 2 4 "
     ]
    }
   ],
   "source": [
    "class Node:\n",
    "    def __init__(self,data):\n",
    "        self.data=data\n",
    "        self.left=self.right=None\n",
    "\n",
    "def mirror(node):\n",
    "    \n",
    "    if(node==None):\n",
    "        return\n",
    "    else:\n",
    "        temp=node\n",
    "        mirror(node.left)\n",
    "        mirror(node.right)\n",
    "        \n",
    "        \n",
    "        temp=node.left\n",
    "        node.left=node.right\n",
    "        node.right=temp\n",
    "def Inorder(node):\n",
    "    if (node==None):\n",
    "        return\n",
    "    Inorder(node.left)\n",
    "    print(node.data,end=\" \")\n",
    "    Inorder(node.right)\n",
    "\n",
    "    \n",
    "root=Node(1)\n",
    "root.left=Node(2)\n",
    "root.right=Node(3)\n",
    "root.left.left=Node(4)\n",
    "root.left.right=Node(5)\n",
    "print(\"before reversing\")\n",
    "Inorder(root)\n",
    "mirror(root)\n",
    "print(\"\\nAfter reversing\")\n",
    "Inorder(root)"
   ]
  },
  {
   "cell_type": "code",
   "execution_count": null,
   "metadata": {},
   "outputs": [],
   "source": []
  }
 ],
 "metadata": {
  "kernelspec": {
   "display_name": "Python 3",
   "language": "python",
   "name": "python3"
  },
  "language_info": {
   "codemirror_mode": {
    "name": "ipython",
    "version": 3
   },
   "file_extension": ".py",
   "mimetype": "text/x-python",
   "name": "python",
   "nbconvert_exporter": "python",
   "pygments_lexer": "ipython3",
   "version": "3.7.4"
  }
 },
 "nbformat": 4,
 "nbformat_minor": 2
}
