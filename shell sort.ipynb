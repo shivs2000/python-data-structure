{
 "cells": [
  {
   "cell_type": "code",
   "execution_count": 5,
   "metadata": {},
   "outputs": [
    {
     "name": "stdout",
     "output_type": "stream",
     "text": [
      "Sorted Array in Ascending Order:\n",
      "[1, 3, 4, 5, 6, 7, 8, 9]\n"
     ]
    }
   ],
   "source": [
    "def shellSort(arr,n):\n",
    "    interval=n//2\n",
    "    while interval>0:\n",
    "        for i in range(interval,n):\n",
    "            temp=arr[i]\n",
    "            j=i\n",
    "            while j>=interval and arr[j-interval]>temp:\n",
    "                arr[j]=arr[j-interval]\n",
    "                j-=interval\n",
    "                \n",
    "            arr[j]=temp\n",
    "        interval//=2\n",
    "        \n",
    "data = [9, 8, 3, 7, 5, 6, 4, 1]\n",
    "size = len(data)\n",
    "shellSort(data, size)\n",
    "print('Sorted Array in Ascending Order:')\n",
    "print(data)                \n",
    "                "
   ]
  },
  {
   "cell_type": "code",
   "execution_count": null,
   "metadata": {},
   "outputs": [],
   "source": []
  }
 ],
 "metadata": {
  "kernelspec": {
   "display_name": "Python 3",
   "language": "python",
   "name": "python3"
  },
  "language_info": {
   "codemirror_mode": {
    "name": "ipython",
    "version": 3
   },
   "file_extension": ".py",
   "mimetype": "text/x-python",
   "name": "python",
   "nbconvert_exporter": "python",
   "pygments_lexer": "ipython3",
   "version": "3.7.4"
  }
 },
 "nbformat": 4,
 "nbformat_minor": 2
}
