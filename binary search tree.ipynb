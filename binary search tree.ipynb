{
 "cells": [
  {
   "cell_type": "code",
   "execution_count": 8,
   "metadata": {},
   "outputs": [
    {
     "name": "stdout",
     "output_type": "stream",
     "text": [
      "20\n",
      "30\n",
      "40\n",
      "50\n",
      "60\n",
      "70\n",
      "80\n"
     ]
    }
   ],
   "source": [
    "class Node:\n",
    "    def __init__(self,key):\n",
    "        self.left=None\n",
    "        self.right=None\n",
    "        self.value=key\n",
    "def insert(root,key):\n",
    "    if root is None:\n",
    "        return Node(key)\n",
    "    elif root.value<key:\n",
    "        root.right=insert(root.right,key)\n",
    "    else:\n",
    "        root.left=insert(root.left,key)\n",
    "    return root\n",
    "def inorder(root):\n",
    "    if root:\n",
    "        inorder(root.left)\n",
    "        print(root.value)\n",
    "        inorder(root.right)\n",
    "\n",
    "root = None\n",
    "root = insert(root, 50)\n",
    "root = insert(root, 30)\n",
    "root = insert(root, 20)\n",
    "root = insert(root, 40)\n",
    "root = insert(root, 70)\n",
    "root = insert(root, 60)\n",
    "root = insert(root, 80)\n",
    "inorder(root)\n",
    "    "
   ]
  },
  {
   "cell_type": "markdown",
   "metadata": {},
   "source": [
    "DELETION"
   ]
  },
  {
   "cell_type": "code",
   "execution_count": 11,
   "metadata": {},
   "outputs": [
    {
     "name": "stdout",
     "output_type": "stream",
     "text": [
      "30\n",
      "40\n",
      "50\n",
      "60\n",
      "70\n",
      "80\n"
     ]
    }
   ],
   "source": [
    "def delete(root,key):\n",
    "    \n",
    "    \n",
    "    def minValueNode(root):\n",
    "        current=root\n",
    "        while(current.left is not None):\n",
    "            current=current.left\n",
    "    \n",
    "    if root is None:\n",
    "        return root\n",
    "    if key<root.value:\n",
    "        root.left=delete(root.left,key)\n",
    "    elif key>root.value:\n",
    "        root.right=delete(root.right,key)\n",
    "    else:\n",
    "        #these two conditions are for nodes with zero or one child\n",
    "        if root.left is None:\n",
    "            temp=root.right\n",
    "            root=None\n",
    "            return temp\n",
    "        elif root.right is None:\n",
    "            temp=root.left\n",
    "            root=None\n",
    "            return temp\n",
    "        # for nodes with two children we are going to find inorder successor\n",
    "        temp=minValueNode(root)\n",
    "        root.value=temp.value\n",
    "        root.right=delete(roor.right,temp.value)\n",
    "    return root   \n",
    "        \n",
    "            \n",
    "root=delete(root,20)   \n",
    "inorder(root)"
   ]
  },
  {
   "cell_type": "code",
   "execution_count": null,
   "metadata": {},
   "outputs": [],
   "source": []
  }
 ],
 "metadata": {
  "kernelspec": {
   "display_name": "Python 3",
   "language": "python",
   "name": "python3"
  },
  "language_info": {
   "codemirror_mode": {
    "name": "ipython",
    "version": 3
   },
   "file_extension": ".py",
   "mimetype": "text/x-python",
   "name": "python",
   "nbconvert_exporter": "python",
   "pygments_lexer": "ipython3",
   "version": "3.7.4"
  }
 },
 "nbformat": 4,
 "nbformat_minor": 2
}
