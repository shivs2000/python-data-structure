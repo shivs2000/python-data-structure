{
 "cells": [
  {
   "cell_type": "markdown",
   "metadata": {},
   "source": [
    "BELLMAN-FORD\n"
   ]
  },
  {
   "cell_type": "code",
   "execution_count": 2,
   "metadata": {},
   "outputs": [
    {
     "name": "stdout",
     "output_type": "stream",
     "text": [
      "vertex distance from source\n",
      "0\t\t0\n",
      "1\t\t-1\n",
      "2\t\t2\n",
      "3\t\t-2\n",
      "4\t\t1\n"
     ]
    }
   ],
   "source": [
    "class Graph:\n",
    "    def __init__(self,vertices):\n",
    "        self.v=vertices\n",
    "        self.graph=[]\n",
    "    def addEdge(self,u,v,w):\n",
    "        self.graph.append([u,v,w])\n",
    "    def PrintArr(self,dist):\n",
    "        print(\"vertex distance from source\")\n",
    "        for i in range(self.v):\n",
    "            print(\"{0}\\t\\t{1}\".format(i,dist[i]))\n",
    "    def BellmanFord(self,src):\n",
    "        dist=[float(\"Inf\")]*self.v\n",
    "        dist[src]=0\n",
    "        \n",
    "        \n",
    "        for _ in range(self.v-1):\n",
    "            for u,v,w in self.graph:\n",
    "                if dist[u]!=float(\"Inf\") and dist[u]+w<dist[v]:\n",
    "                    dist[v]=dist[u]+w\n",
    "        for u,v,w in self.graph:\n",
    "            if dist[u]!=float(\"Inf\") and dist[u]+w<dist[v]:\n",
    "                    print(\"negative cycle is here:\")\n",
    "        self.PrintArr(dist)   \n",
    "g=Graph(5)        \n",
    "g.addEdge(0, 1, -1) \n",
    "g.addEdge(0, 2, 4) \n",
    "g.addEdge(1, 2, 3) \n",
    "g.addEdge(1, 3, 2) \n",
    "g.addEdge(1, 4, 2) \n",
    "g.addEdge(3, 2, 5) \n",
    "g.addEdge(3, 1, 1) \n",
    "g.addEdge(4, 3, -3) \n",
    "g.BellmanFord(0)"
   ]
  },
  {
   "cell_type": "code",
   "execution_count": null,
   "metadata": {},
   "outputs": [],
   "source": []
  }
 ],
 "metadata": {
  "kernelspec": {
   "display_name": "Python 3",
   "language": "python",
   "name": "python3"
  },
  "language_info": {
   "codemirror_mode": {
    "name": "ipython",
    "version": 3
   },
   "file_extension": ".py",
   "mimetype": "text/x-python",
   "name": "python",
   "nbconvert_exporter": "python",
   "pygments_lexer": "ipython3",
   "version": "3.7.4"
  }
 },
 "nbformat": 4,
 "nbformat_minor": 2
}
