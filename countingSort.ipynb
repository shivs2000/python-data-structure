{
 "cells": [
  {
   "cell_type": "markdown",
   "metadata": {},
   "source": [
    "COUNTING SORT"
   ]
  },
  {
   "cell_type": "code",
   "execution_count": 25,
   "metadata": {
    "scrolled": false
   },
   "outputs": [
    {
     "name": "stdout",
     "output_type": "stream",
     "text": [
      "5\n",
      "[0, 1, 2, 3, 4, 5]\n",
      "[1, 2, 3, 4, 5]\n",
      "[1, 2, 3, 4, 5]\n",
      "Sorted Array in Ascending Order: \n"
     ]
    }
   ],
   "source": [
    "def CountingSort(arr):\n",
    "    size=len(arr)\n",
    "    output=[0]*size\n",
    "    max=0\n",
    "    for i in arr:\n",
    "        if i>max:\n",
    "            max=i\n",
    "    print(max)        \n",
    "    count=[0]*(max+1)\n",
    "    \n",
    "    for i in range(0,size):\n",
    "        count[arr[i]]+=1\n",
    "    for i in range(1,max+1):\n",
    "        count[i]+=count[i-1]\n",
    "    print(count)    \n",
    "    i = size - 1\n",
    "    while i >= 0:\n",
    "        output[count[arr[i]] - 1] = arr[i]\n",
    "        count[arr[i]] -= 1\n",
    "        i -= 1\n",
    "    print(output)    \n",
    "    for i in range(0, size):\n",
    "        arr[i] = output[i]\n",
    "    print(arr)    \n",
    "\n",
    "\n",
    "data = [5,2,3,1,4]\n",
    "CountingSort(data)\n",
    "print(\"Sorted Array in Ascending Order: \")\n",
    "\n",
    "        "
   ]
  },
  {
   "cell_type": "code",
   "execution_count": null,
   "metadata": {},
   "outputs": [],
   "source": []
  }
 ],
 "metadata": {
  "kernelspec": {
   "display_name": "Python 3",
   "language": "python",
   "name": "python3"
  },
  "language_info": {
   "codemirror_mode": {
    "name": "ipython",
    "version": 3
   },
   "file_extension": ".py",
   "mimetype": "text/x-python",
   "name": "python",
   "nbconvert_exporter": "python",
   "pygments_lexer": "ipython3",
   "version": "3.7.4"
  }
 },
 "nbformat": 4,
 "nbformat_minor": 2
}
