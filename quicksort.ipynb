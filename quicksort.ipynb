{
 "cells": [
  {
   "cell_type": "markdown",
   "metadata": {},
   "source": [
    "QUICK SORT"
   ]
  },
  {
   "cell_type": "code",
   "execution_count": 6,
   "metadata": {},
   "outputs": [
    {
     "name": "stdout",
     "output_type": "stream",
     "text": [
      "Unsorted Array\n",
      "[8, 7, 2, 1, 0, 9, 6]\n",
      "Sorted Array in Ascending Order:\n",
      "[0, 1, 2, 6, 7, 8, 9]\n"
     ]
    }
   ],
   "source": [
    "# Quick sort in Python\n",
    "\n",
    "# function to find the partition position\n",
    "def partition(array, low, high):\n",
    "\n",
    "  # choose the rightmost element as pivot\n",
    "  pivot = array[high]\n",
    "\n",
    "  # pointer for greater element\n",
    "  i = low - 1\n",
    "\n",
    "  # traverse through all elements\n",
    "  # compare each element with pivot\n",
    "  for j in range(low, high):\n",
    "    if array[j] <= pivot:\n",
    "      # if element smaller than pivot is found\n",
    "      # swap it with the greater element pointed by i\n",
    "      i = i + 1\n",
    "\n",
    "      # swapping element at i with element at j\n",
    "      (array[i], array[j]) = (array[j], array[i])\n",
    "\n",
    "  # swap the pivot element with the greater element specified by i\n",
    "  (array[i + 1], array[high]) = (array[high], array[i + 1])\n",
    "\n",
    "  # return the position from where partition is done\n",
    "  return i + 1\n",
    "\n",
    "# function to perform quicksort\n",
    "def quickSort(array, low, high):\n",
    "  if low < high:\n",
    "\n",
    "    # find pivot element such that\n",
    "    # element smaller than pivot are on the left\n",
    "    # element greater than pivot are on the right\n",
    "    pi = partition(array, low, high)\n",
    "\n",
    "    # recursive call on the left of pivot\n",
    "    quickSort(array, low, pi - 1)\n",
    "\n",
    "    # recursive call on the right of pivot\n",
    "    quickSort(array, pi + 1, high)\n",
    "\n",
    "\n",
    "data = [8, 7, 2, 1, 0, 9, 6]\n",
    "print(\"Unsorted Array\")\n",
    "print(data)\n",
    "\n",
    "size = len(data)\n",
    "\n",
    "quickSort(data, 0, size-1)\n",
    "\n",
    "print('Sorted Array in Ascending Order:')\n",
    "print(data)"
   ]
  },
  {
   "cell_type": "code",
   "execution_count": 7,
   "metadata": {},
   "outputs": [
    {
     "name": "stdout",
     "output_type": "stream",
     "text": [
      "0\n",
      "1\n",
      "2\n",
      "3\n",
      "4\n",
      "5\n",
      "6\n"
     ]
    }
   ],
   "source": [
    "high=7\n",
    "low=0\n",
    "for i in range(low,high):\n",
    "    print(i)\n",
    "    "
   ]
  },
  {
   "cell_type": "code",
   "execution_count": null,
   "metadata": {},
   "outputs": [],
   "source": []
  }
 ],
 "metadata": {
  "kernelspec": {
   "display_name": "Python 3",
   "language": "python",
   "name": "python3"
  },
  "language_info": {
   "codemirror_mode": {
    "name": "ipython",
    "version": 3
   },
   "file_extension": ".py",
   "mimetype": "text/x-python",
   "name": "python",
   "nbconvert_exporter": "python",
   "pygments_lexer": "ipython3",
   "version": "3.7.4"
  }
 },
 "nbformat": 4,
 "nbformat_minor": 2
}
