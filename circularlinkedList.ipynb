{
 "cells": [
  {
   "cell_type": "markdown",
   "metadata": {},
   "source": [
    "CIRCULAR LINKED LISTS"
   ]
  },
  {
   "cell_type": "code",
   "execution_count": 36,
   "metadata": {},
   "outputs": [
    {
     "name": "stdout",
     "output_type": "stream",
     "text": [
      "29\n",
      "25\n",
      "24\n",
      "22\n",
      "2\n"
     ]
    }
   ],
   "source": [
    "class Node:\n",
    "    def __init__(self,data):\n",
    "        self.data=data\n",
    "        self.next=None\n",
    "class Linkedlist: \n",
    "    \n",
    "    def __init__(self):\n",
    "        self.head=None\n",
    "        \n",
    "    def Push(self,data):    \n",
    "        ptr1=Node(data)\n",
    "        temp=self.head\n",
    "        ptr1.next=self.head\n",
    "        if self.head is not None:\n",
    "            while temp.next!=self.head:\n",
    "                temp=temp.next\n",
    "            temp.next=ptr1    \n",
    "        else:\n",
    "            ptr1.next=ptr1\n",
    "            \n",
    "        self.head=ptr1\n",
    "    \n",
    "    def PrintList(self):\n",
    "        temp=self.head\n",
    "        if self.head is not None:\n",
    "            while(True):\n",
    "                print(temp.data)\n",
    "                temp=temp.next\n",
    "                if (temp==self.head):\n",
    "                    break\n",
    "                    \n",
    "\n",
    "                    \n",
    "list1=Linkedlist() \n",
    "    \n",
    "list1.Push(2)\n",
    "\n",
    "list1.Push(22)\n",
    "\n",
    "list1.Push(24)\n",
    "list1.Push(25)\n",
    "list1.Push(29)\n",
    "list1.PrintList()\n",
    "    "
   ]
  },
  {
   "cell_type": "code",
   "execution_count": null,
   "metadata": {},
   "outputs": [],
   "source": []
  },
  {
   "cell_type": "code",
   "execution_count": null,
   "metadata": {},
   "outputs": [],
   "source": []
  },
  {
   "cell_type": "code",
   "execution_count": null,
   "metadata": {},
   "outputs": [],
   "source": []
  }
 ],
 "metadata": {
  "kernelspec": {
   "display_name": "Python 3",
   "language": "python",
   "name": "python3"
  },
  "language_info": {
   "codemirror_mode": {
    "name": "ipython",
    "version": 3
   },
   "file_extension": ".py",
   "mimetype": "text/x-python",
   "name": "python",
   "nbconvert_exporter": "python",
   "pygments_lexer": "ipython3",
   "version": "3.7.4"
  }
 },
 "nbformat": 4,
 "nbformat_minor": 2
}
