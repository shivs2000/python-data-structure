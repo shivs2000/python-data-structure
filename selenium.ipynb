{
 "cells": [
  {
   "cell_type": "markdown",
   "metadata": {},
   "source": [
    "SELENIUM\n"
   ]
  },
  {
   "cell_type": "code",
   "execution_count": 18,
   "metadata": {},
   "outputs": [
    {
     "name": "stdout",
     "output_type": "stream",
     "text": [
      "sample test case successfully completed\n"
     ]
    }
   ],
   "source": [
    "\n",
    "from selenium import webdriver \n",
    "\n",
    "from selenium.webdriver.common.keys import Keys \n",
    "driver = webdriver.Chrome() \n",
    "driver.maximize_window()  \n",
    "#navigate to the url  \n",
    "url=\"https://testandquiz.com/\"\n",
    "driver.get(url)  \n",
    "#identify the Google search text box and enter the value  \n",
    "driver.find_element_by_xpath('/html/body/div[1]/div[1]/div/div/ul/li[2]/a').click()\n",
    "username=driver.find_element_by_xpath('//*[@id=\"email\"]')\n",
    "\n",
    "password=driver.find_element_by_xpath('//*[@id=\"password\"]')\n",
    "username.send_keys('gokihad83@astarmax.com')\n",
    "password.send_keys('git12345')\n",
    "driver.find_element_by_xpath('/html/body/div[2]/div/div[2]/div/div/form/button').click()\n",
    "\n",
    "print(\"sample test case successfully completed\") "
   ]
  },
  {
   "cell_type": "code",
   "execution_count": null,
   "metadata": {},
   "outputs": [],
   "source": []
  }
 ],
 "metadata": {
  "kernelspec": {
   "display_name": "Python 3",
   "language": "python",
   "name": "python3"
  },
  "language_info": {
   "codemirror_mode": {
    "name": "ipython",
    "version": 3
   },
   "file_extension": ".py",
   "mimetype": "text/x-python",
   "name": "python",
   "nbconvert_exporter": "python",
   "pygments_lexer": "ipython3",
   "version": "3.7.4"
  }
 },
 "nbformat": 4,
 "nbformat_minor": 2
}
